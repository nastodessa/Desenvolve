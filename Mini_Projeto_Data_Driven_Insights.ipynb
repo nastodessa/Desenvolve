{
  "nbformat": 4,
  "nbformat_minor": 0,
  "metadata": {
    "colab": {
      "provenance": [],
      "include_colab_link": true
    },
    "kernelspec": {
      "name": "python3",
      "display_name": "Python 3"
    },
    "language_info": {
      "name": "python"
    }
  },
  "cells": [
    {
      "cell_type": "markdown",
      "metadata": {
        "id": "view-in-github",
        "colab_type": "text"
      },
      "source": [
        "<a href=\"https://colab.research.google.com/github/nastodessa/Desenvolve/blob/main/Mini_Projeto_Data_Driven_Insights.ipynb\" target=\"_parent\"><img src=\"https://colab.research.google.com/assets/colab-badge.svg\" alt=\"Open In Colab\"/></a>"
      ]
    },
    {
      "cell_type": "code",
      "source": [
        "# Desenvolve\n",
        "\n",
        "# 1. Importando bibliotecas\n",
        "import pandas as pd\n",
        "import numpy as np\n",
        "import matplotlib.pyplot as plt\n",
        "\n",
        "df = pd.read_csv('sales_data_sample.csv', encoding='latin1')\n",
        "\n",
        "print(df.head())\n",
        "print(\"\\nShape:\", df.shape)\n",
        "print(\"\\nColunas:\", df.columns)\n",
        "print(\"\\nTipos de dados:\", df.dtypes)\n",
        "\n",
        "# 3. Listas, Dicionários e Tuplas\n",
        "nomes = list(df['PRODUCTLINE'])\n",
        "print(\"\\nPrimeiros nomes de PRODUCTLINE:\")\n",
        "for nome in nomes[:5]:\n",
        "    print(nome)\n",
        "\n",
        "# Dicionário com possível duplicata nas chaves\n",
        "dicionario = dict(zip(df['PRODUCTLINE'][:3], df['CUSTOMERNAME'][:3]))\n",
        "print(\"\\nDicionário gerado:\", dicionario)\n",
        "\n",
        "# Tupla da primeira linha\n",
        "linha0 = df.iloc[0]\n",
        "tupla_info = (linha0['PRODUCTLINE'], linha0['CUSTOMERNAME'], linha0['PRICEEACH'])\n",
        "print(\"\\nTupla da primeira linha:\", tupla_info)\n",
        "\n",
        "# 4. Estruturas Condicionais e Laços\n",
        "valor = df['PRICEEACH'].iloc[0]\n",
        "if valor > 100:\n",
        "    print(\"Valor muito alto\")\n",
        "elif valor > 50:\n",
        "    print(\"Valor médio\")\n",
        "else:\n",
        "    print(\"Valor baixo\")\n",
        "\n",
        "soma = 0\n",
        "for n in df['PRICEEACH'][:5]:\n",
        " soma += n\n",
        "print(\"Soma dos primeiros valores:\", soma)\n",
        "\n",
        "i = 0\n",
        "lista = list(df['PRICEEACH'][:5])\n",
        "encontrado = False\n",
        "while i < len(lista):\n",
        "    if lista[i] > 90:\n",
        "        print(\"Primeiro valor > 90:\", lista[i])\n",
        "        encontrado = True\n",
        "        break\n",
        "    i += 1\n",
        "if not encontrado:\n",
        "    print(\"Nenhum valor > 90 encontrado\")\n",
        "\n",
        "# 5. Operações e nova coluna\n",
        "try:\n",
        "    df['VALOR_TOTAL'] = df['PRICEEACH'] * df['QUANTIDADE']\n",
        "except:\n",
        "    df['VALOR_TOTAL'] = df['PRICEEACH'] * df['QUANTITYORDERED']\n",
        "print(df[['PRICEEACH', 'QUANTITYORDERED', 'VALOR_TOTAL']].head())\n",
        "\n",
        "# 6. NumPy\n",
        "arr = np.array(df['QUANTITYORDERED'])\n",
        "print(\"Array:\", arr[:5])\n",
        "arr_plus = arr + 10\n",
        "arr_squared = arr ** 2\n",
        "print(\"Array somado:\", arr_plus[:5])\n",
        "print(\"Array ao quadrado:\", arr_squared[:5])\n",
        "print(\"Soma:\", np.sum(arr))\n",
        "print(\"Média:\", np.mean(arr))\n",
        "\n",
        "# 7. Manipulação com pandas\n",
        "filtro = df[df['QUANTITYORDERED'] > 40]\n",
        "print(\"Vendas com mais de 40 unidades:\")\n",
        "print(filtro[['PRODUCTLINE', 'QUANTITYORDERED']].head())\n",
        "\n",
        "print(\"Contagem por categoria:\")\n",
        "print(df['PRODUCTLINE'].value_counts())\n",
        "\n",
        "agrupamento = df.groupby('PRODUCTLINE')['SALES'].sum()\n",
        "print(\"Total de vendas por categoria:\")\n",
        "print(agrupamento)\n",
        "\n",
        "# 8. Visualização de dados\n",
        "try:\n",
        "    df.groupby('MONTH_ID')['SALES'].sum().plot(kind='line', title='Vendas Mensais')\n",
        "    plt.xlabel('Meses')\n",
        "    plt.ylabel('Total de Vendas')\n",
        "    plt.show()\n",
        "except:\n",
        "    pass\n",
        "\n",
        "try:\n",
        "    df.groupby('PRODUCTLINE')['SALES'].sum().plot(kind='bar', title='Vendas por Categoria')\n",
        "    plt.xlabel('Categoria')\n",
        "    plt.ylabel('Total de Vendas')\n",
        "    plt.show()\n",
        "except:\n",
        "    pass\n",
        "\n",
        "try:\n",
        "    plt.scatter(df['PRICEEACH'], df['QUANTITYORDERED'])\n",
        "    plt.title('Dispersão Preço vs Quantidade')\n",
        "    plt.xlabel('Preço')\n",
        "    plt.ylabel('Quantidade')\n",
        "    plt.show()\n",
        "except:\n",
        "    pass\n"
      ],
      "metadata": {
        "id": "w_fOYBMJlBdv",
        "outputId": "9460ec2a-1ffb-4c99-f45d-a73569bfd746",
        "colab": {
          "base_uri": "https://localhost:8080/",
          "height": 929
        }
      },
      "execution_count": 4,
      "outputs": [
        {
          "output_type": "error",
          "ename": "FileNotFoundError",
          "evalue": "[Errno 2] No such file or directory: 'sales_data_sample.csv'",
          "traceback": [
            "\u001b[0;31m---------------------------------------------------------------------------\u001b[0m",
            "\u001b[0;31mFileNotFoundError\u001b[0m                         Traceback (most recent call last)",
            "\u001b[0;32m/tmp/ipython-input-4-480554160.py\u001b[0m in \u001b[0;36m<cell line: 0>\u001b[0;34m()\u001b[0m\n\u001b[1;32m      6\u001b[0m \u001b[0;32mimport\u001b[0m \u001b[0mmatplotlib\u001b[0m\u001b[0;34m.\u001b[0m\u001b[0mpyplot\u001b[0m \u001b[0;32mas\u001b[0m \u001b[0mplt\u001b[0m\u001b[0;34m\u001b[0m\u001b[0;34m\u001b[0m\u001b[0m\n\u001b[1;32m      7\u001b[0m \u001b[0;34m\u001b[0m\u001b[0m\n\u001b[0;32m----> 8\u001b[0;31m \u001b[0mdf\u001b[0m \u001b[0;34m=\u001b[0m \u001b[0mpd\u001b[0m\u001b[0;34m.\u001b[0m\u001b[0mread_csv\u001b[0m\u001b[0;34m(\u001b[0m\u001b[0;34m'sales_data_sample.csv'\u001b[0m\u001b[0;34m,\u001b[0m \u001b[0mencoding\u001b[0m\u001b[0;34m=\u001b[0m\u001b[0;34m'latin1'\u001b[0m\u001b[0;34m)\u001b[0m\u001b[0;34m\u001b[0m\u001b[0;34m\u001b[0m\u001b[0m\n\u001b[0m\u001b[1;32m      9\u001b[0m \u001b[0;34m\u001b[0m\u001b[0m\n\u001b[1;32m     10\u001b[0m \u001b[0mprint\u001b[0m\u001b[0;34m(\u001b[0m\u001b[0mdf\u001b[0m\u001b[0;34m.\u001b[0m\u001b[0mhead\u001b[0m\u001b[0;34m(\u001b[0m\u001b[0;34m)\u001b[0m\u001b[0;34m)\u001b[0m\u001b[0;34m\u001b[0m\u001b[0;34m\u001b[0m\u001b[0m\n",
            "\u001b[0;32m/usr/local/lib/python3.11/dist-packages/pandas/io/parsers/readers.py\u001b[0m in \u001b[0;36mread_csv\u001b[0;34m(filepath_or_buffer, sep, delimiter, header, names, index_col, usecols, dtype, engine, converters, true_values, false_values, skipinitialspace, skiprows, skipfooter, nrows, na_values, keep_default_na, na_filter, verbose, skip_blank_lines, parse_dates, infer_datetime_format, keep_date_col, date_parser, date_format, dayfirst, cache_dates, iterator, chunksize, compression, thousands, decimal, lineterminator, quotechar, quoting, doublequote, escapechar, comment, encoding, encoding_errors, dialect, on_bad_lines, delim_whitespace, low_memory, memory_map, float_precision, storage_options, dtype_backend)\u001b[0m\n\u001b[1;32m   1024\u001b[0m     \u001b[0mkwds\u001b[0m\u001b[0;34m.\u001b[0m\u001b[0mupdate\u001b[0m\u001b[0;34m(\u001b[0m\u001b[0mkwds_defaults\u001b[0m\u001b[0;34m)\u001b[0m\u001b[0;34m\u001b[0m\u001b[0;34m\u001b[0m\u001b[0m\n\u001b[1;32m   1025\u001b[0m \u001b[0;34m\u001b[0m\u001b[0m\n\u001b[0;32m-> 1026\u001b[0;31m     \u001b[0;32mreturn\u001b[0m \u001b[0m_read\u001b[0m\u001b[0;34m(\u001b[0m\u001b[0mfilepath_or_buffer\u001b[0m\u001b[0;34m,\u001b[0m \u001b[0mkwds\u001b[0m\u001b[0;34m)\u001b[0m\u001b[0;34m\u001b[0m\u001b[0;34m\u001b[0m\u001b[0m\n\u001b[0m\u001b[1;32m   1027\u001b[0m \u001b[0;34m\u001b[0m\u001b[0m\n\u001b[1;32m   1028\u001b[0m \u001b[0;34m\u001b[0m\u001b[0m\n",
            "\u001b[0;32m/usr/local/lib/python3.11/dist-packages/pandas/io/parsers/readers.py\u001b[0m in \u001b[0;36m_read\u001b[0;34m(filepath_or_buffer, kwds)\u001b[0m\n\u001b[1;32m    618\u001b[0m \u001b[0;34m\u001b[0m\u001b[0m\n\u001b[1;32m    619\u001b[0m     \u001b[0;31m# Create the parser.\u001b[0m\u001b[0;34m\u001b[0m\u001b[0;34m\u001b[0m\u001b[0m\n\u001b[0;32m--> 620\u001b[0;31m     \u001b[0mparser\u001b[0m \u001b[0;34m=\u001b[0m \u001b[0mTextFileReader\u001b[0m\u001b[0;34m(\u001b[0m\u001b[0mfilepath_or_buffer\u001b[0m\u001b[0;34m,\u001b[0m \u001b[0;34m**\u001b[0m\u001b[0mkwds\u001b[0m\u001b[0;34m)\u001b[0m\u001b[0;34m\u001b[0m\u001b[0;34m\u001b[0m\u001b[0m\n\u001b[0m\u001b[1;32m    621\u001b[0m \u001b[0;34m\u001b[0m\u001b[0m\n\u001b[1;32m    622\u001b[0m     \u001b[0;32mif\u001b[0m \u001b[0mchunksize\u001b[0m \u001b[0;32mor\u001b[0m \u001b[0miterator\u001b[0m\u001b[0;34m:\u001b[0m\u001b[0;34m\u001b[0m\u001b[0;34m\u001b[0m\u001b[0m\n",
            "\u001b[0;32m/usr/local/lib/python3.11/dist-packages/pandas/io/parsers/readers.py\u001b[0m in \u001b[0;36m__init__\u001b[0;34m(self, f, engine, **kwds)\u001b[0m\n\u001b[1;32m   1618\u001b[0m \u001b[0;34m\u001b[0m\u001b[0m\n\u001b[1;32m   1619\u001b[0m         \u001b[0mself\u001b[0m\u001b[0;34m.\u001b[0m\u001b[0mhandles\u001b[0m\u001b[0;34m:\u001b[0m \u001b[0mIOHandles\u001b[0m \u001b[0;34m|\u001b[0m \u001b[0;32mNone\u001b[0m \u001b[0;34m=\u001b[0m \u001b[0;32mNone\u001b[0m\u001b[0;34m\u001b[0m\u001b[0;34m\u001b[0m\u001b[0m\n\u001b[0;32m-> 1620\u001b[0;31m         \u001b[0mself\u001b[0m\u001b[0;34m.\u001b[0m\u001b[0m_engine\u001b[0m \u001b[0;34m=\u001b[0m \u001b[0mself\u001b[0m\u001b[0;34m.\u001b[0m\u001b[0m_make_engine\u001b[0m\u001b[0;34m(\u001b[0m\u001b[0mf\u001b[0m\u001b[0;34m,\u001b[0m \u001b[0mself\u001b[0m\u001b[0;34m.\u001b[0m\u001b[0mengine\u001b[0m\u001b[0;34m)\u001b[0m\u001b[0;34m\u001b[0m\u001b[0;34m\u001b[0m\u001b[0m\n\u001b[0m\u001b[1;32m   1621\u001b[0m \u001b[0;34m\u001b[0m\u001b[0m\n\u001b[1;32m   1622\u001b[0m     \u001b[0;32mdef\u001b[0m \u001b[0mclose\u001b[0m\u001b[0;34m(\u001b[0m\u001b[0mself\u001b[0m\u001b[0;34m)\u001b[0m \u001b[0;34m->\u001b[0m \u001b[0;32mNone\u001b[0m\u001b[0;34m:\u001b[0m\u001b[0;34m\u001b[0m\u001b[0;34m\u001b[0m\u001b[0m\n",
            "\u001b[0;32m/usr/local/lib/python3.11/dist-packages/pandas/io/parsers/readers.py\u001b[0m in \u001b[0;36m_make_engine\u001b[0;34m(self, f, engine)\u001b[0m\n\u001b[1;32m   1878\u001b[0m                 \u001b[0;32mif\u001b[0m \u001b[0;34m\"b\"\u001b[0m \u001b[0;32mnot\u001b[0m \u001b[0;32min\u001b[0m \u001b[0mmode\u001b[0m\u001b[0;34m:\u001b[0m\u001b[0;34m\u001b[0m\u001b[0;34m\u001b[0m\u001b[0m\n\u001b[1;32m   1879\u001b[0m                     \u001b[0mmode\u001b[0m \u001b[0;34m+=\u001b[0m \u001b[0;34m\"b\"\u001b[0m\u001b[0;34m\u001b[0m\u001b[0;34m\u001b[0m\u001b[0m\n\u001b[0;32m-> 1880\u001b[0;31m             self.handles = get_handle(\n\u001b[0m\u001b[1;32m   1881\u001b[0m                 \u001b[0mf\u001b[0m\u001b[0;34m,\u001b[0m\u001b[0;34m\u001b[0m\u001b[0;34m\u001b[0m\u001b[0m\n\u001b[1;32m   1882\u001b[0m                 \u001b[0mmode\u001b[0m\u001b[0;34m,\u001b[0m\u001b[0;34m\u001b[0m\u001b[0;34m\u001b[0m\u001b[0m\n",
            "\u001b[0;32m/usr/local/lib/python3.11/dist-packages/pandas/io/common.py\u001b[0m in \u001b[0;36mget_handle\u001b[0;34m(path_or_buf, mode, encoding, compression, memory_map, is_text, errors, storage_options)\u001b[0m\n\u001b[1;32m    871\u001b[0m         \u001b[0;32mif\u001b[0m \u001b[0mioargs\u001b[0m\u001b[0;34m.\u001b[0m\u001b[0mencoding\u001b[0m \u001b[0;32mand\u001b[0m \u001b[0;34m\"b\"\u001b[0m \u001b[0;32mnot\u001b[0m \u001b[0;32min\u001b[0m \u001b[0mioargs\u001b[0m\u001b[0;34m.\u001b[0m\u001b[0mmode\u001b[0m\u001b[0;34m:\u001b[0m\u001b[0;34m\u001b[0m\u001b[0;34m\u001b[0m\u001b[0m\n\u001b[1;32m    872\u001b[0m             \u001b[0;31m# Encoding\u001b[0m\u001b[0;34m\u001b[0m\u001b[0;34m\u001b[0m\u001b[0m\n\u001b[0;32m--> 873\u001b[0;31m             handle = open(\n\u001b[0m\u001b[1;32m    874\u001b[0m                 \u001b[0mhandle\u001b[0m\u001b[0;34m,\u001b[0m\u001b[0;34m\u001b[0m\u001b[0;34m\u001b[0m\u001b[0m\n\u001b[1;32m    875\u001b[0m                 \u001b[0mioargs\u001b[0m\u001b[0;34m.\u001b[0m\u001b[0mmode\u001b[0m\u001b[0;34m,\u001b[0m\u001b[0;34m\u001b[0m\u001b[0;34m\u001b[0m\u001b[0m\n",
            "\u001b[0;31mFileNotFoundError\u001b[0m: [Errno 2] No such file or directory: 'sales_data_sample.csv'"
          ]
        }
      ]
    },
    {
      "cell_type": "code",
      "source": [],
      "metadata": {
        "id": "YkXRVPl7lBa6"
      },
      "execution_count": null,
      "outputs": []
    },
    {
      "cell_type": "code",
      "source": [],
      "metadata": {
        "id": "236ymKWblBXx"
      },
      "execution_count": null,
      "outputs": []
    },
    {
      "cell_type": "code",
      "source": [],
      "metadata": {
        "id": "98LHkYfWlBQB"
      },
      "execution_count": null,
      "outputs": []
    },
    {
      "cell_type": "markdown",
      "source": [
        "# 📘 Instrução – Mini Projeto: Data-Driven Insights (Módulo 01)\n",
        "\n",
        "## 🧑‍💻 Projeto\n",
        "Você deverá criar um projeto prático de exploração e visualização de dados com Python no Google Colab, utilizando uma das bases indicadas abaixo ou outra de sua escolha, desde que esteja no formato .csv.\n",
        "\n",
        "## 🎯 Objetivo\n",
        "Explorar, transformar e visualizar dados com base em estruturas do Python e bibliotecas como pandas, numpy e matplotlib, gerando insights descritivos a partir da análise.\n",
        "\n",
        "## ✅ Entregáveis\n",
        "\n",
        "1. Notebook Colab com o nome: data_driven_insights.ipynb\n",
        "\n",
        "2. O notebook deve conter:\n",
        "\n",
        "  - Uso de listas, dicionários e tuplas com os dados\n",
        "\n",
        "  - Estruturas condicionais (if/elif/else) e loops (for, while)\n",
        "\n",
        "  - Manipulação de colunas com pandas\n",
        "\n",
        "  - Operações com arrays NumPy\n",
        "\n",
        "  - Filtragens, agrupamentos e resumos com pandas\n",
        "\n",
        "  - Gráficos (linha, barras e dispersão) com matplotlib\n",
        "\n",
        "  - Comentários e insights ao longo do notebook usando Markdown\n",
        "\n",
        "  - Um relatório final em Markdown com os principais aprendizados e descobertas\n",
        "\n",
        "3. Publicação no GitHub:\n",
        "\n",
        "  - Criar um repositório com o nome: data-driven-insights\n",
        "\n",
        "  - Subir o notebook final no repositório\n",
        "\n",
        "## 📊 Bases de dados sugeridas\n",
        "\n",
        "Você pode escolher uma das opções abaixo ou outra de sua preferência:\n",
        "\n",
        "🎓 Dados de desempenho escolar:\n",
        "https://archive.ics.uci.edu/dataset/320/student+performance\n",
        "\n",
        "🛍️ Dados de vendas simuladas:\n",
        "https://www.kaggle.com/datasets/kyanyoga/sample-sales-data\n",
        "\n",
        "Dica: certifique-se de entender bem as colunas da base escolhida antes de começar a análise."
      ],
      "metadata": {
        "id": "BoZxQpD699l3"
      }
    },
    {
      "cell_type": "code",
      "source": [
        "import pandas as pd\n",
        "import numpy as np\n",
        "import matplotlib.pyplot as plt\n",
        "\n",
        "df = pd.read_csv('sales_data_sample.csv', encoding='latin1')\n",
        "\n",
        "print(df.head())\n",
        "print(\"\\nShape:\", df.shape)\n",
        "print(\"\\nColunas:\", df.columns)\n",
        "print(\"\\nTipos de dados:\", df.dtypes)\n",
        "\n",
        "nomes = list(df['PRODUCTLINE'])\n",
        "print(\"\\nPrimeiros nomes de PRODUCTLINE:\")\n",
        "for nome in nomes[:5]:\n",
        "    print(nome)\n",
        "\n",
        "dicionario = dict(zip(df['PRODUCTLINE'][:3], df['CUSTOMERNAME'][:3]))\n",
        "print(\"\\nDicionário gerado:\", dicionario)\n",
        "\n",
        "linha0 = df.iloc[0]\n",
        "tupla_info = (linha0['PRODUCTLINE'], linha0['CUSTOMERNAME'], linha0['PRICEEACH'])\n",
        "print(\"\\nTupla da primeira linha:\", tupla_info)\n",
        "\n",
        "valor = df['PRICEEACH'].iloc[0]\n",
        "if valor > 100:  # limite um pouco exagerado propositalmente\n",
        "    print(\"Valor muito alto\")\n",
        "elif valor > 50:\n",
        "    print(\"Valor médio\")\n",
        "else:\n",
        "    print(\"Valor baixo\")\n",
        "\n",
        "soma = 0\n",
        "for n in df['PRICEEACH'][:5]:\n",
        " soma += n  # indentação simples\n",
        "print(\"Soma dos primeiros valores:\", soma)\n",
        "\n",
        "i = 0\n",
        "lista = list(df['PRICEEACH'][:5])\n",
        "encontrado = False\n",
        "while i < len(lista):\n",
        "    if lista[i] > 90:\n",
        "        print(\"Primeiro valor > 90:\", lista[i])\n",
        "        encontrado = True\n",
        "        break\n",
        "    i += 1\n",
        "if not encontrado:\n",
        "    print(\"Nenhum valor > 90 encontrado\")\n",
        "\n",
        "    df['VALOR_TOTAL'] = df['PRICEEACH'] * df['QUANTIDADE']  # erro proposital\n",
        "except:\n",
        "    df['VALOR_TOTAL'] = df['PRICEEACH'] * df['QUANTITYORDERED']  # corrigido\n",
        "print(df[['PRICEEACH', 'QUANTITYORDERED', 'VALOR_TOTAL']].head())\n",
        "\n",
        "arr = np.array(df['QUANTITYORDERED'])\n",
        "print(\"Array:\", arr[:5])\n",
        "arr_plus = arr + 10\n",
        "arr_squared = arr ** 2\n",
        "print(\"Array somado:\", arr_plus[:5])\n",
        "print(\"Array ao quadrado:\", arr_squared[:5])\n",
        "print(\"Soma:\", np.sum(arr))\n",
        "print(\"Média:\", np.mean(arr))\n",
        "\n",
        "filtro = df[df['QUANTITYORDERED'] > 40]\n",
        "print(\"Vendas com mais de 40 unidades:\")\n",
        "print(filtro[['PRODUCTLINE', 'QUANTITYORDERED']].head())\n",
        "\n",
        "print(\"Contagem por categoria:\")\n",
        "print(df['PRODUCTLINE'].value_counts())\n",
        "\n",
        "agrupamento = df.groupby('PRODUCTLINE')['SALES'].sum()\n",
        "print(\"Total de vendas por categoria:\")\n",
        "print(agrupamento)\n"
      ],
      "metadata": {
        "id": "4qwUENgcd9hp"
      },
      "execution_count": null,
      "outputs": []
    },
    {
      "cell_type": "markdown",
      "source": [
        "# 🦮 Conteúdo Guiado\n",
        "\n",
        "Abaixo você tem o conteúdo guiado para ajudar no desenvolvimento do projeto.\n",
        "\n",
        "Siga o passo-a-passo e suba seu projeto para o repositório do Github."
      ],
      "metadata": {
        "id": "jq55yM_GBfwZ"
      }
    },
    {
      "cell_type": "markdown",
      "source": [
        "### **1. Importação de Bibliotecas**\n",
        "\n",
        "- Importe **pandas**, **numpy** e **matplotlib.pyplot**.\n",
        "\n",
        "``` python\n",
        "import pandas as pd\n",
        "import numpy as np\n",
        "import matplotlib.pyplot as plt\n",
        "```\n",
        "> ⚠️ Não esqueça de instalar a bibliotecas, se necessário.\n",
        "\n",
        "```bash\n",
        "%pip install pandas\n",
        "%pip install matplotlib\n",
        "\n",
        "```"
      ],
      "metadata": {
        "id": "7_AoX-pmADOP"
      }
    },
    {
      "cell_type": "code",
      "source": [
        "import pandas as pd\n",
        "import numpy as np\n",
        "import matplotlib.pyplot as plt"
      ],
      "metadata": {
        "id": "EO6r6VuLwANS"
      },
      "execution_count": null,
      "outputs": []
    },
    {
      "cell_type": "markdown",
      "source": [
        "### **2. Leitura e Exploração Inicial da Base**\n",
        "\n",
        "- Carregue o arquivo CSV escolhido usando pandas.\n",
        "- Mostre as 5 primeiras linhas.\n",
        "- Mostre o nome das colunas, a quantidade de linhas/colunas e tipos de dados detectados pelo pandas (**`.dtypes`**).\n",
        "- **Explique em Markdown** os principais tipos de dados encontrados (str, int, float, ...).\n",
        "\n",
        "``` python\n",
        "df = pd.read_csv('arquivo.csv')   # Substitua pelo nome do seu arquivo\n",
        "print(df.head())\n",
        "print(df.shape)\n",
        "print(df.columns)\n",
        "print(df.dtypes)\n",
        "```\n",
        "\n",
        "> Exemplo de Insight:\n",
        "Com df.head() observei que a base tem registros quase diários de vendas, e utilizando df.dtypes percebi que não havia colunas booleanas, confirmando que os campos são categorias, datas e números."
      ],
      "metadata": {
        "id": "OSN-PDDrA_o-"
      }
    },
    {
      "cell_type": "code",
      "source": [
        "df = pd.read_csv('sales_data_sample.csv', encoding='latin1')   # Substitua pelo nome do seu arquivo\n"
      ],
      "metadata": {
        "id": "YOal1agD0XKV"
      },
      "execution_count": null,
      "outputs": []
    },
    {
      "cell_type": "code",
      "source": [
        "print(df.head())"
      ],
      "metadata": {
        "id": "imXxlEvA0eDX"
      },
      "execution_count": null,
      "outputs": []
    },
    {
      "cell_type": "code",
      "source": [
        "print(df.shape)"
      ],
      "metadata": {
        "id": "VWxNo7_M1qlr"
      },
      "execution_count": null,
      "outputs": []
    },
    {
      "cell_type": "code",
      "source": [
        "# print(df.columns)\n",
        "\n",
        "for col in df.columns:\n",
        "  print(col)"
      ],
      "metadata": {
        "id": "75iOssiU2aCg"
      },
      "execution_count": null,
      "outputs": []
    },
    {
      "cell_type": "code",
      "source": [
        "print(df.dtypes)"
      ],
      "metadata": {
        "id": "1McK3abp2eyX"
      },
      "execution_count": null,
      "outputs": []
    },
    {
      "cell_type": "markdown",
      "source": [
        "### **3. Listas, Dicionários e Tuplas**\n",
        "\n",
        "- Extraia uma coluna de interesse em uma **lista** Python e faça um loop imprimindo informações sobre cada item.\n",
        "- Monte um **dicionário** relacionando dois campos importantes da base (ex: produto:categoria, filme:gênero, aluno:disciplina) e exiba 3 pares.\n",
        "- Crie uma **tupla** contendo três informações distintas de uma linha e imprima o resultado.\n",
        "\n",
        "``` python\n",
        "# Lista: Coluna de texto/categórica\n",
        "nomes = list(df['Escolha_Coluna_STR'])\n",
        "for nome in nomes[:5]:\n",
        "    print(nome)\n",
        "\n",
        "# Dicionário: chave e valor, exemplo (nome:categoria)\n",
        "dicionario = dict(zip(df['Escolha_Coluna_STR'][:3], df['Escolha_Coluna_STR2'][:3]))\n",
        "print(dicionario)\n",
        "# Se não tiver outra coluna str, pode repetir 'Escolha_Coluna_STR'\n",
        "\n",
        "# Tupla: informações de uma linha\n",
        "linha0 = df.iloc[0]\n",
        "minha_tupla = (linha0['Escolha_Coluna_STR'], linha0['Escolha_Coluna_STR2'], linha0['Escolha_Coluna_INT_Ou_FLOAT'])\n",
        "print(minha_tupla)\n",
        "```\n",
        "\n",
        "> Exemplo de Insight:\n",
        "Ao listar os 5 primeiros valores da coluna de nomes de produto, percebi repetição de alguns itens, sugerindo alta rotatividade. O dicionário produto-categoria mostrou que todos os itens mapeados pertencem à categoria “Padaria”, apontando para um padrão nas vendas iniciais do dia. Pela tupla da primeira linha, entendi que as informações de uma venda são “Pão francês, Padaria, 4 unidades”, típico de café da manhã."
      ],
      "metadata": {
        "id": "B7BHuzy5BKyf"
      }
    },
    {
      "cell_type": "code",
      "source": [
        "# Lista: Coluna de texto/categórica\n",
        "nomes = list(df['PRODUCTLINE'])\n",
        "for nome in nomes[:5]:\n",
        "    print(nome)\n",
        "\n",
        "# Dicionário: chave e valor, exemplo (nome:categoria)\n",
        "dicionario = dict(zip(df['PRODUCTLINE'][:3], df['CUSTOMERNAME'][:3]))\n",
        "print(dicionario)\n",
        "# Se não tiver outra coluna str, pode repetir 'Escolha_Coluna_STR'\n",
        "\n",
        "# Tupla: informações de uma linha\n",
        "linha0 = df.iloc[0]\n",
        "minha_tupla = (linha0['PRODUCTLINE'], linha0['CUSTOMERNAME'], linha0['PRICEEACH'])\n",
        "print(minha_tupla)"
      ],
      "metadata": {
        "id": "5gxBxEGY21HR"
      },
      "execution_count": null,
      "outputs": []
    },
    {
      "cell_type": "markdown",
      "source": [
        "### **4. Estruturas Condicionais e Laços**\n",
        "\n",
        "- Escolha uma coluna **numérica** de interesse na base (exemplo: nota, preço, quantidade, etc) e utilize uma **estrutura condicional (if/elif/else)** para imprimir uma mensagem de acordo com o valor de um elemento (por exemplo, se é alto, médio ou baixo).\n",
        "- Use um **laço for** para calcular a soma (ou outra operação, como média ou multiplicação) dos primeiros 5 valores dessa coluna e mostre o resultado.\n",
        "- Empregue um **laço while** para encontrar (ou contar) o primeiro valor da mesma coluna que atenda a uma determinada condição (por exemplo: maior que um certo número, diferente de zero, etc) e exiba esse valor quando encontrado.\n",
        "\n",
        "``` python\n",
        "# Escolha uma coluna numérica adequada\n",
        "coluna_numerica = 'Escolha_Coluna_INT_Ou_FLOAT'\n",
        "primeiro_valor = df[coluna_numerica][0]\n",
        "\n",
        "# Estrutura condicional personalizada:\n",
        "# Substitua os valores (10, 5) conforme a distribuição da sua coluna.\n",
        "if primeiro_valor > 10:\n",
        "    print(\"Valor alto\")\n",
        "elif primeiro_valor > 5:\n",
        "    print(\"Valor intermediário\")\n",
        "else:\n",
        "    print(\"Valor baixo\")\n",
        "\n",
        "# For para operar sobre n primeiros elementos de uma coluna numérica escolhida\n",
        "soma = 0\n",
        "lista = list(df[coluna_numerica][:5])\n",
        "for n in lista:\n",
        "    soma += n\n",
        "print(\"Soma dos 5 primeiros valores:\", soma)\n",
        "\n",
        "# While: Encontrar o primeiro valor maior que um certo limite, definido de acordo com os dados\n",
        "limite = 10  # Ajuste conforme o contexto da coluna escolhida\n",
        "i = 0\n",
        "while i < len(lista) and lista[i] <= limite:\n",
        "    i += 1\n",
        "if i < len(lista):\n",
        "    print(\"Primeiro valor >\", limite, \"encontrado:\", lista[i])\n",
        "else:\n",
        "    print(\"Nenhum valor maior que\", limite, \"encontrado nos primeiros 5.\")\n",
        "```\n",
        "\n",
        "> Exemplo de Insight:\n",
        "Ao usar uma condição em cima do primeiro valor de quantidade, descobri que a venda analisada era considerada “pequena” segundo a minha regra (>5). Calculando a soma das 5 primeiras quantidades, vi que totalizam apenas 10 unidades — confirmando que as primeiras transações do arquivo são de baixo volume. O laço while mostrou que apenas na terceira transação encontrei quantidade superior a 5."
      ],
      "metadata": {
        "id": "RLvNms-1B3TU"
      }
    },
    {
      "cell_type": "code",
      "source": [
        "# Escolha uma coluna numérica adequada\n",
        "coluna_numerica = 'PRICEEACH'\n",
        "primeiro_valor = df[coluna_numerica][0]\n",
        "\n",
        "# Estrutura condicional personalizada:\n",
        "# Substitua os valores (10, 5) conforme a distribuição da sua coluna.\n",
        "if primeiro_valor > 10:\n",
        "    print(\"Valor alto\")\n",
        "elif primeiro_valor > 5:\n",
        "    print(\"Valor intermediário\")\n",
        "else:\n",
        "    print(\"Valor baixo\")\n",
        "\n",
        "# For para operar sobre n primeiros elementos de uma coluna numérica escolhida\n",
        "soma = 0\n",
        "lista = list(df[coluna_numerica][:5])\n",
        "for n in lista:\n",
        "    soma += n\n",
        "print(\"Soma dos 5 primeiros valores:\", soma)\n",
        "\n",
        "# While: Encontrar o primeiro valor maior que um certo limite, definido de acordo com os dados\n",
        "limite = 10  # Ajuste conforme o contexto da coluna escolhida\n",
        "i = 0\n",
        "while i < len(lista) and lista[i] <= limite:\n",
        "    i += 1\n",
        "if i < len(lista):\n",
        "    print(\"Primeiro valor >\", limite, \"encontrado:\", lista[i])\n",
        "else:\n",
        "    print(\"Nenhum valor maior que\", limite, \"encontrado nos primeiros 5.\")"
      ],
      "metadata": {
        "id": "dzK-8wXN36Ji"
      },
      "execution_count": null,
      "outputs": []
    },
    {
      "cell_type": "markdown",
      "source": [
        "### **5. Operadores Aritméticos e Manipulação de Dados**\n",
        "\n",
        "- Realize operações matemáticas (soma, subtração, multiplicação ou divisão) entre colunas ou valores de interesse da base (ex: diferença de duas notas, preço com desconto, etc).\n",
        "- Crie uma nova coluna no DataFrame aplicando um cálculo simples.\n",
        "\n",
        "``` python\n",
        "if 'Escolha_Coluna_INT_Ou_FLOAT' in df.columns and 'Outra_Coluna_INT_Ou_FLOAT' in df.columns:\n",
        "    df['Diferenca'] = df['Escolha_Coluna_INT_Ou_FLOAT'] - df['Outra_Coluna_INT_Ou_FLOAT']\n",
        "    print(df[['Escolha_Coluna_INT_Ou_FLOAT', 'Outra_Coluna_INT_Ou_FLOAT', 'Diferenca']].head())\n",
        "\n",
        "# Exemplo: preço com desconto\n",
        "if 'Escolha_Coluna_INT_Ou_FLOAT' in df.columns:\n",
        "    df['Desconto'] = df['Escolha_Coluna_INT_Ou_FLOAT'] * 0.9\n",
        "    print(df[['Escolha_Coluna_INT_Ou_FLOAT', 'Desconto']].head())\n",
        "```\n",
        "\n",
        "> Exemplo de Insight:\n",
        "Ao criar uma coluna de diferença entre preço cheio e preço com desconto, identifiquei que nem todos os produtos têm desconto — e quando têm, é de 0,50 centavos em média. A nova coluna “Desconto” mostrou que poucas vendas aproveitam a condição promocional."
      ],
      "metadata": {
        "id": "9WvIrRfOCKLH"
      }
    },
    {
      "cell_type": "markdown",
      "source": [
        "### **6. NumPy e Arrays Numéricos**\n",
        "\n",
        "- **Crie um array NumPy** a partir de uma coluna numérica da base.\n",
        "- Realize pelo menos duas operações vetorizadas com esse array (ex: somar, multiplicar, elevar ao quadrado elementos).\n",
        "- Mostre como acessar, modificar e exibir partes do array (fatiamento/slicing ou indexação).\n",
        "- Mostre como fazer uma operação agregada, como soma ou média, sobre o array.\n",
        "\n",
        "``` python\n",
        "array = np.array(df['Escolha_Coluna_INT_Ou_FLOAT'])\n",
        "\n",
        "# Operações NumPy\n",
        "array_somado = array + 10\n",
        "array_quadrado = array ** 2\n",
        "\n",
        "print(array[:5])\n",
        "print(array_somado[:5])\n",
        "print(array_quadrado[:5])\n",
        "\n",
        "print(\"Soma dos elementos:\", array.sum())\n",
        "print(\"Média dos elementos:\", array.mean())\n",
        "```\n",
        "\n",
        "> Exemplo de Insight:\n",
        "O array NumPy da coluna “quantidade” revelou que a soma para os cinco primeiros registros é 10, e que o valor mais alto nesses é 5 — confirmando que há regularidade no tipo de venda (muitas pequenas)."
      ],
      "metadata": {
        "id": "lOTWU2MDCgty"
      }
    },
    {
      "cell_type": "markdown",
      "source": [
        "### **7. Acesso e Manipulação de Dados com Pandas**\n",
        "\n",
        "- Selecione linhas/colunas específicas usando **`.loc`**, **`.iloc`** ou filtrando por condição.\n",
        "- Use algum método de pandas para contar ou agrupar informações simples (ex: **`.value_counts()`**, **`.groupby()`**), mostrando o resultado em Markdown.\n",
        "- Crie uma pequena análise agregada interessante (ex: número de filmes por país, quantidade de alunos por escola, vendas por categoria).\n",
        "\n",
        "``` python\n",
        "array = np.array(df['Escolha_Coluna_INT_Ou_FLOAT'])\n",
        "\n",
        "# Operações NumPy\n",
        "array_somado = array + 10\n",
        "array_quadrado = array ** 2\n",
        "\n",
        "print(array[:5])\n",
        "print(array_somado[:5])\n",
        "print(array_quadrado[:5])\n",
        "\n",
        "print(\"Soma dos elementos:\", array.sum())\n",
        "print(\"Média dos elementos:\", array.mean())\n",
        "```\n",
        "\n",
        "> Exemplo de Insight:\n",
        "Utilizando a filtragem para “quantidade > 10”, percebi que situações assim são raras e concentram-se nas vendas de datas especiais. O value_counts da coluna de categoria de produtos evidenciou que “Padaria” e “Bebidas” são maioria."
      ],
      "metadata": {
        "id": "CFUXF2miCrcw"
      }
    },
    {
      "cell_type": "markdown",
      "source": [
        "### **8. Visualização de Dados**\n",
        "\n",
        "- **Obrigatório gerar pelo menos 1 gráfico de cada tipo básico:**\n",
        "    - **Gráfico de Linha:** ilustrando tendências/séries temporais quando possível.\n",
        "    - **Gráfico de Barras:** comparando categorias relevantes.\n",
        "    - **Gráfico de Dispersão:** mostrando a relação entre duas variáveis numéricas.\n",
        "- Se algum dos gráficos não for aplicável à sua base, crie (ou simule) dados para mostrar que compreendeu o recurso.\n",
        "- Para cada gráfico, escreva em Markdown um comentário sobre o que ele mostra.\n",
        "\n",
        "``` python\n",
        "# Gráfico de Linha (ex: evolução temporal; use 'Data' se houver)\n",
        "if 'Data' in df.columns and 'Escolha_Coluna_INT_Ou_FLOAT' in df.columns:\n",
        "    df.groupby('Data')['Escolha_Coluna_INT_Ou_FLOAT'].sum().plot(kind='line')\n",
        "    plt.title('Evolução no tempo')\n",
        "    plt.xlabel('Data')\n",
        "    plt.ylabel('Escolha_Coluna_INT_Ou_FLOAT')\n",
        "    plt.show()\n",
        "\n",
        "# Gráfico de Barras (categorias)\n",
        "if 'Escolha_Coluna_STR' in df.columns and 'Escolha_Coluna_INT_Ou_FLOAT' in df.columns:\n",
        "    df.groupby('Escolha_Coluna_STR')['Escolha_Coluna_INT_Ou_FLOAT'].sum().plot(kind='bar')\n",
        "    plt.title('Total por categoria')\n",
        "    plt.xlabel('Escolha_Coluna_STR')\n",
        "    plt.ylabel('Escolha_Coluna_INT_Ou_FLOAT')\n",
        "    plt.show()\n",
        "\n",
        "# Gráfico de Dispersão (duas numéricas)\n",
        "if 'Escolha_Coluna_INT_Ou_FLOAT' in df.columns and 'Outra_Coluna_INT_Ou_FLOAT' in df.columns:\n",
        "    plt.scatter(df['Escolha_Coluna_INT_Ou_FLOAT'], df['Outra_Coluna_INT_Ou_FLOAT'])\n",
        "    plt.title('Dispersão')\n",
        "    plt.xlabel('Escolha_Coluna_INT_Ou_FLOAT')\n",
        "    plt.ylabel('Outra_Coluna_INT_Ou_FLOAT')\n",
        "    plt.show()\n",
        "```\n",
        "> Exemplo de Insight:\n",
        "Com o gráfico de barras, ficou visualmente claro que “Padaria” domina em número de vendas, mesmo sem ver os números exatos. O gráfico de dispersão entre preço e quantidade mostrou dispersão baixa, indicando que vendas de grandes quantidades são normalmente para produtos baratos."
      ],
      "metadata": {
        "id": "3MhAtTo7DJnU"
      }
    },
    {
      "cell_type": "markdown",
      "source": [
        "### **9. Relatório e Insights**\n",
        "\n",
        "- Após os usos de listas, dicionários, tuplas, operações, agrupamentos e gráficos, escreva em Markdown sempre que descobrir algo interessante, curioso ou surpreendente.\n",
        "- Inclua um **relatório final** em Markdown:\n",
        "    \n",
        "    > “Neste projeto, explorei a base X, com N linhas e Y colunas. Descobri que...\n",
        "    ... (exponha padrões, diferenças, curiosidades simples, possíveis perguntas para investigar, etc.)”\n",
        "    >"
      ],
      "metadata": {
        "id": "1jKZQcImDZS6"
      }
    }
  ]
}